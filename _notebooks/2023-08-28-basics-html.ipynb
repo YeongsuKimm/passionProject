{
 "cells": [
  {
   "cell_type": "markdown",
   "metadata": {},
   "source": [
    "---\n",
    "layout: post\n",
    "hide: True\n",
    "title: Basics of HTML Guide\n",
    "description: An introduction to basic HTML, and resources to learn more.\n",
    "type: ccc\n",
    "permalink: /basics/html\n",
    "author: Rohan Juneja\n",
    "---"
   ]
  },
  {
   "cell_type": "markdown",
   "metadata": {},
   "source": [
    "\n",
    "# How does HTML work?\n",
    "Similar function to Markdown, syntax defines how stuff should be displayed\n",
    "- HTML is based on beginning and closing tags `<tagname>content</tagname>`\n",
    "  - Note the \"/\" on the ending or closing tag of the pair"
   ]
  },
  {
   "cell_type": "markdown",
   "metadata": {},
   "source": [
    "## Compare markdown to html below\n",
    "This below example shows comparison of a [heading](https://www.w3schools.com/html/html_headings.asp) and [paragraph](https://www.w3schools.com/html/html_paragraphs.asp).  Click on links to see many more HTML examples."
   ]
  },
  {
   "cell_type": "code",
   "execution_count": 8,
   "metadata": {},
   "outputs": [
    {
     "data": {
      "text/markdown": [
       "\n",
       "### Markdown: This is a Heading\n",
       "\n",
       "This is a paragraph\n"
      ],
      "text/plain": [
       "<IPython.core.display.Markdown object>"
      ]
     },
     "metadata": {},
     "output_type": "display_data"
    }
   ],
   "source": [
    "%%markdown\n",
    "\n",
    "### Markdown: This is a Heading\n",
    "\n",
    "This is a paragraph\n"
   ]
  },
  {
   "cell_type": "code",
   "execution_count": 9,
   "metadata": {
    "vscode": {
     "languageId": "html"
    }
   },
   "outputs": [
    {
     "data": {
      "text/html": [
       "\n",
       "<h3>HTML: This is a Heading</h3>\n",
       "<p>This is a paragraph.</p>\n"
      ],
      "text/plain": [
       "<IPython.core.display.HTML object>"
      ]
     },
     "metadata": {},
     "output_type": "display_data"
    }
   ],
   "source": [
    "%%html\n",
    "\n",
    "<h3>HTML: This is a Heading</h3>\n",
    "<p>This is a paragraph.</p>"
   ]
  },
  {
   "cell_type": "markdown",
   "metadata": {},
   "source": [
    "# Attributes\n",
    "- Learn about [attributes](https://www.w3schools.com/html/html_attributes.asp) \n",
    "- Tags can have additional info in the form of attributes\n",
    "- Attributes usually come in name/value pairs like: name=\"value\"\n",
    "\n",
    "```html\n",
    "<tagname attribute_name=\"attribute_value\" another_attribute=\"another_value\">inner html text</tagname>\n",
    "```\n",
    "\n",
    "- href example with attribute for web link and inner html to describe link\n",
    "\n",
    "```html\n",
    "<a href=\"https://www.w3schools.com/html/default.asp\">Visit W3Schools HTML Page</a>\n",
    "```"
   ]
  },
  {
   "cell_type": "markdown",
   "metadata": {},
   "source": [
    "## Sample Markdown vs HTML Tags\n",
    "Image Tag - Markdown\n",
    "\n",
    "```md\n",
    "![describe image](link to image)\n",
    "```\n",
    "\n",
    "Image Tag - HTML\n",
    "\n",
    "```html\n",
    "<!-- no content so no end tag, width/height is optional (in pixels) -->\n",
    "<img alt=\"describe image\" src=\"link to image\" width=\"100\" height=\"200\">\n",
    "```\n",
    "\n",
    "Link Tag - Markdown\n",
    "\n",
    "```md\n",
    "[link text](link)\n",
    "```\n",
    "\n",
    "Link Tag - HTML\n",
    "\n",
    "```html\n",
    "<a href=\"link\">link text</a>\n",
    "```\n",
    "\n",
    "Bolded Text - Markdown\n",
    "\n",
    "```md\n",
    "**Bolded Text**\n",
    "```\n",
    "\n",
    "Bolded Text - HTML\n",
    "\n",
    "```md\n",
    "<strong>Bolded Text</strong>\n",
    "```\n",
    "\n",
    "Italic Text - Markdown\n",
    "\n",
    "```md\n",
    "*Italic Text*\n",
    "```\n",
    "\n",
    "Italic Text - HTML\n",
    "\n",
    "```md\n",
    "<i>Italic Text</i>\n",
    "```"
   ]
  },
  {
   "cell_type": "markdown",
   "metadata": {},
   "source": [
    "# More tags (not really in markdown)\n",
    "P tag (just represeants a paragraph/normal text)\n",
    "\n",
    "```html\n",
    "<p>This is a paragraph</p>\n",
    "```\n",
    "\n",
    "Button\n",
    "\n",
    "```html\n",
    "<button>some button text</button>\n",
    "```\n",
    "\n",
    "Div (groups together related content)\n",
    "\n",
    "```html\n",
    "<!-- first information -->\n",
    "<div>\n",
    "    <!-- notice how tags can be put INSIDE eachother -->\n",
    "    <p>This is the first paragarph of section 1</p>\n",
    "    <p>This is the second paragraph of section 1</p>\n",
    "</div>\n",
    "\n",
    "<!-- second information -->\n",
    "<div>\n",
    "    <!-- notice how tags can be put INSIDE eachother -->\n",
    "    <p>This is the first paragarph of section 2</p>\n",
    "    <p>This is the second paragraph of section 2</p>\n",
    "</div>\n",
    "```\n",
    "\n"
   ]
  },
  {
   "cell_type": "markdown",
   "metadata": {},
   "source": [
    "# Resources\n",
    "- https://www.w3schools.com/html/default.asp\n",
    "- I will show a demo of how to find information on this website"
   ]
  },
  {
   "cell_type": "markdown",
   "metadata": {},
   "source": [
    "# HTML Hacks\n",
    "- Below is a wireframe for an HTML element you will create. A wireframe is a rough visual representation of HTML elements on a page and isn't necessarily to scale or have the exact styling that the final HTML will have. Using the syntax above, try to create an HTML snippet that corresponds to the below wireframe.\n",
    "- The \"a tags\" can contain any links that you want\n",
    "\n",
    "![wireframe for html hacks]({{ site.baseurl }}/images/wireframe.png)"
   ]
  },
  {
   "cell_type": "code",
   "execution_count": 1,
   "metadata": {
    "vscode": {
     "languageId": "html"
    }
   },
   "outputs": [
    {
     "data": {
      "text/html": [
       "\n",
       "<!-- put your HTML code in this cell, Make sure to press the Run button to see your results below -->\n"
      ],
      "text/plain": [
       "<IPython.core.display.HTML object>"
      ]
     },
     "metadata": {},
     "output_type": "display_data"
    }
   ],
   "source": [
    "%%html\n",
    "\n",
    "<!-- put your HTML code in this cell, Make sure to press the Run button to see your results below -->\n",
    "<div>\n",
    "    <p>hello!</p>\n",
    "    <a href=\"https://csp.nighthawkcodingsociety.com/\">linky</a>\n",
    "</div>\n",
    "\n",
    "<div>\n",
    "    <a href=\"https://csp.nighthawkcodingsociety.com/\">linky</a>\n",
    "    <a href=\"https://csp.nighthawkcodingsociety.com/\">linky</a>\n",
    "    <p>hello</p>\n",
    "</div>"
   ]
  },
  {
   "cell_type": "markdown",
   "metadata": {},
   "source": [
    "i implemented the html structure into the header.html file to make buttons & darkmode button yippie"
   ]
  },
  {
   "cell_type": "code",
   "execution_count": null,
   "metadata": {
    "vscode": {
     "languageId": "html"
    }
   },
   "outputs": [],
   "source": [
    "%%html\n",
    "<style>\n",
    "    .site-header {\n",
    "    font-family: monospace;\n",
    "    font-size: 15px;\n",
    "    \n",
    "    position: absolute;\n",
    "    transition: top 0.2s ease-in-out;\n",
    "    margin-top: 25px;\n",
    "    padding-top: 10px;\n",
    "    left: -115px;\n",
    "    margin-top: 275px;\n",
    "  }\n",
    "  .circular_image {\n",
    "  width: 200px;\n",
    "  height: 200px;\n",
    "  border-radius: 50%;\n",
    "  overflow: hidden;\n",
    "  background-color: blue;\n",
    "  position:absolute;\n",
    "  \n",
    "  /* commented for demo\n",
    "  float: left;\n",
    "  margin-left: 125px;\n",
    "  margin-top: 20px;\n",
    "  */\n",
    "  \n",
    "  /*for demo*/\n",
    "  display:inline-block;\n",
    "  vertical-align:middle;\n",
    "  }\n",
    "  img{\n",
    "    position:relative;\n",
    "    border: 1px solid;\n",
    "    border-color: #7e92d6;\n",
    "  }\n",
    "  \n",
    "  .pfp {\n",
    "  border-radius: 50%;\n",
    "  position:absolute;\n",
    "  left: -75px;\n",
    "  }\n",
    "  .headerbutton {\n",
    "  border: 1px solid #5f73b8;\n",
    "  background: #424549;\n",
    "  color: white;\n",
    "  width: 270px;\n",
    "  padding: 15px 20px;\n",
    "  font-weight: bold;\n",
    "  text-align: center;\n",
    "  text-decoration: none;\n",
    "  display: inline-block;\n",
    "  font-size: 15px;\n",
    "  transition-duration: 0.1s;\n",
    "  cursor: pointer;\n",
    "  font-family: serif;\n",
    "  }\n",
    "  .headerbutton:hover{\n",
    "  background:  #7e92d6;\n",
    "  /* color: rgb(78, 3, 66); */\n",
    "  }\n",
    "  .backgroundbutton {\n",
    "    border: 2px solid #121212;\n",
    "    background:  #7e92d6;\n",
    "    color: white;\n",
    "    width: 100px;\n",
    "    /* padding: 15px 20px; */\n",
    "    font-weight: bold;\n",
    "    text-align: center;\n",
    "    text-decoration: none;\n",
    "    display: inline-block;\n",
    "    font-size: 15px;\n",
    "    transition-duration: 0.1s;\n",
    "    cursor: pointer;\n",
    "    font-family: serif;\n",
    "  }\n",
    "  .backgroundbutton:hover{\n",
    "    background: #424549;\n",
    "    /* color: rgb(78, 3, 66); */\n",
    "  }\n",
    "  \n",
    "  </style>\n",
    "  <style> body { background-color: #121212; color: #7e92d6; } \n",
    "  p{font-family: sans-serif;}\n",
    "  hr{background-color: #7e92d6;}\n",
    "  .color{color:#7e92d6;}\n",
    "  body {\n",
    "    padding: 25px;\n",
    "    background-color: #121212;\n",
    "    color: #7e92d6;\n",
    "    font-size: 16px;\n",
    "    transition-duration: 0.2s;\n",
    "  }\n",
    "  hr{background-color: #7e92d6;}\n",
    "  .dark-mode {\n",
    "    background-color: white;\n",
    "    color: black;\n",
    "    transition-duration: 0.2s;\n",
    "  }\n",
    "  .bar-dark{background-color: black}\n",
    "  .table-dark{color: black}\n",
    "  \n",
    "  .border-dark {\n",
    "    border: 1px solid black;\n",
    "  }\n",
    "  .cells-dark {\n",
    "    width: 100px;\n",
    "      height: 100px;\n",
    "      border: 1px solid black;\n",
    "      display: flex;\n",
    "      align-items: center;\n",
    "      justify-content: center;\n",
    "      font-size: 24px;\n",
    "      cursor: pointer;\n",
    "  }\n",
    "  .board {\n",
    "      display: grid;\n",
    "      grid-template-columns: repeat(3, 100px);\n",
    "      grid-gap: 2px;\n",
    "    }\n",
    "    .cell {\n",
    "      width: 100px;\n",
    "      height: 100px;\n",
    "      border: 1px solid #7e92d6;\n",
    "      display: flex;\n",
    "      align-items: center;\n",
    "      justify-content: center;\n",
    "      font-size: 24px;\n",
    "      cursor: pointer;\n",
    "    }\n",
    "  </style>\n",
    "  \n",
    "  \n",
    "  <script>\n",
    "  \n",
    "  var IsLoggedIn1 = \"true\";\n",
    "  function myFunction() {\n",
    "  var element = document.body;\n",
    "  element.classList.toggle(\"dark-mode\");\n",
    "  var elem = document.querySelectorAll(\"#border\");\n",
    "  elem.forEach(function(border) {\n",
    "    border.classList.toggle(\"border-dark\");\n",
    "    });\n",
    "  var bars = document.querySelectorAll(\"#bar\");\n",
    "  bars.forEach(function(bar) {\n",
    "    bar.classList.toggle(\"bar-dark\");\n",
    "    });\n",
    "  var cellz = document.querySelectorAll(\"#cells\");\n",
    "  cellz.forEach(function(cells) {\n",
    "    cells.classList.toggle(\"cell\");\n",
    "    cells.classList.toggle(\"cells-dark\");\n",
    "    });\n",
    "  var tables = document.querySelectorAll(\"#table\");\n",
    "  tables.forEach(function(table) {\n",
    "    // table.classList.toggle(\"myTable\")\n",
    "    table.classList.toggle(\"table-dark\");\n",
    "    });\n",
    "  }\n",
    "  </script>\n",
    "  \n",
    "  <header class=\"site-header\">\n",
    "  <div id=\"header\">\n",
    "    <nav>\n",
    "      <ul>\n",
    "        <button id=\"border\"class=\"headerbutton\" onclick=\"myFunction()\" style=\"width:160px;padding: 5px 10px;font-weight:bold;left:23.5%;position:relative;\">Dark Mode</button>  \n",
    "        <br>\n",
    "        <br>\n",
    "        <button id=\"border\"type=\"button\" class=\"headerbutton\" onclick=\"window.location.href='{{site.baseurl}}/';\">Home</button> <br \\>\n",
    "        <button id=\"border\"type=\"button\" class=\"headerbutton\" onclick=\"window.location.href='{{site.baseurl}}/frontend/utils';\">Games</button><br \\>\n",
    "        <button id=\"border\"type=\"button\" class=\"headerbutton\" onclick=\"window.location.href='{{site.baseurl}}/weeklylog';\">Weekly Log</button><br \\>\n",
    "        <button id=\"border\"type=\"button\" class=\"headerbutton\" onclick=\"window.location.href='{{ site.github.repository_url }}#readme';\">View On Github</button>\n",
    "      </ul>\n",
    "    </nav>\n",
    "  </div><!-- end header -->"
   ]
  }
 ],
 "metadata": {
  "kernelspec": {
   "display_name": "Python 3",
   "language": "python",
   "name": "python3"
  },
  "language_info": {
   "codemirror_mode": {
    "name": "ipython",
    "version": 3
   },
   "file_extension": ".py",
   "mimetype": "text/x-python",
   "name": "python",
   "nbconvert_exporter": "python",
   "pygments_lexer": "ipython3",
   "version": "3.9.12"
  },
  "orig_nbformat": 4
 },
 "nbformat": 4,
 "nbformat_minor": 2
}
