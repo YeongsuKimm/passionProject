{
 "cells": [
  {
   "cell_type": "code",
   "execution_count": 1,
   "metadata": {
    "vscode": {
     "languageId": "javascript"
    }
   },
   "outputs": [
    {
     "ename": "SyntaxError",
     "evalue": "invalid syntax (301183010.py, line 1)",
     "output_type": "error",
     "traceback": [
      "\u001b[0;36m  File \u001b[0;32m\"/tmp/ipykernel_20735/301183010.py\"\u001b[0;36m, line \u001b[0;32m1\u001b[0m\n\u001b[0;31m    var newNumbers = []\u001b[0m\n\u001b[0m        ^\u001b[0m\n\u001b[0;31mSyntaxError\u001b[0m\u001b[0;31m:\u001b[0m invalid syntax\n"
     ]
    }
   ],
   "source": [
    "var newNumbers = []\n",
    "var i = 0\n",
    "\n",
    "for (let i = 1; i < 101;i++) {\n",
    "    if (i % 5 == 0 ||  i % 2 == 0) {\n",
    "        newNumbers.push(i);\n",
    "        console.log(newNumbers)\n",
    "    }\n",
    "}\n",
    "console.log(newNumbers) \n"
   ]
  },
  {
   "cell_type": "code",
   "execution_count": 2,
   "metadata": {
    "vscode": {
     "languageId": "html"
    }
   },
   "outputs": [
    {
     "ename": "SyntaxError",
     "evalue": "invalid syntax (3585250304.py, line 1)",
     "output_type": "error",
     "traceback": [
      "\u001b[0;36m  File \u001b[0;32m\"/tmp/ipykernel_20735/3585250304.py\"\u001b[0;36m, line \u001b[0;32m1\u001b[0m\n\u001b[0;31m    <html>\u001b[0m\n\u001b[0m    ^\u001b[0m\n\u001b[0;31mSyntaxError\u001b[0m\u001b[0;31m:\u001b[0m invalid syntax\n"
     ]
    }
   ],
   "source": [
    "<html>\n",
    "<head>\n",
    "    <title>Menu Example</title>\n",
    "</head>\n",
    "<body>\n",
    "    <h1>Menu</h1>\n",
    "    <ul id=\"menu-list\">\n",
    "        <li><span>burger - $3.99</span></li>\n",
    "        <li><span>fries - $1.99</span></li>\n",
    "        <li><span>drink - $0.99</span></li>\n",
    "    </ul>\n",
    "    <input type=\"text\" id=\"selection-input\" placeholder=\"Enter your selection\">\n",
    "    <button onclick=\"addToCart()\">Add to Cart</button>\n",
    "    <p>Total: $<span id=\"total\">0.00</span></p>\n",
    "\n",
    "    <script>\n",
    "        var menu = {\n",
    "            \"burger\": 3.99,\n",
    "            \"fries\": 1.99,\n",
    "            \"drink\": 0.99\n",
    "        };\n",
    "        var total = 0;\n",
    "\n",
    "        function addToCart() {\n",
    "            var selection = document.getElementById(\"selection-input\").value.toLowerCase();\n",
    "\n",
    "            if (menu.hasOwnProperty(selection)) {\n",
    "                total += menu[selection];\n",
    "                document.getElementById(\"total\").textContent = total.toFixed(2);\n",
    "            } else {\n",
    "                alert(\"Invalid Input\");\n",
    "            }\n",
    "        }\n",
    "    </script>\n",
    "</body>\n",
    "</html>\n"
   ]
  },
  {
   "cell_type": "code",
   "execution_count": 3,
   "metadata": {
    "vscode": {
     "languageId": "javascript"
    }
   },
   "outputs": [
    {
     "ename": "SyntaxError",
     "evalue": "invalid syntax (2069114552.py, line 1)",
     "output_type": "error",
     "traceback": [
      "\u001b[0;36m  File \u001b[0;32m\"/tmp/ipykernel_20735/2069114552.py\"\u001b[0;36m, line \u001b[0;32m1\u001b[0m\n\u001b[0;31m    // Copy your previous code to built alphabetList here\u001b[0m\n\u001b[0m    ^\u001b[0m\n\u001b[0;31mSyntaxError\u001b[0m\u001b[0;31m:\u001b[0m invalid syntax\n"
     ]
    }
   ],
   "source": [
    "// Copy your previous code to built alphabetList here\n",
    "var alphabet = \"abcdefghijklmnopqrstuvwxyz\";\n",
    "var alphabetList = [];\n",
    "\n",
    "for (var i = 0; i < alphabet.length; i++) {\n",
    "\talphabetList.push(alphabet[i]);\n",
    "}\n",
    "\n",
    "// console.log(alphabetList);\n",
    "let letterNumber = 5\n",
    "\n",
    "for (var i = 0; i < alphabetList.length; i++) {\n",
    "\tif (i == letterNumber) {\n",
    "\t\tconsole.log(alphabetList[i] + \" is letter number \" + String(i+1) + \" in the alphabet\")\n",
    "\t}\n",
    "}\n",
    "\n",
    "// Should output:\n",
    "// \"e\" is letter number 5 in the alphabet"
   ]
  },
  {
   "cell_type": "code",
   "execution_count": 4,
   "metadata": {
    "vscode": {
     "languageId": "javascript"
    }
   },
   "outputs": [
    {
     "ename": "SyntaxError",
     "evalue": "invalid syntax (2069114552.py, line 1)",
     "output_type": "error",
     "traceback": [
      "\u001b[0;36m  File \u001b[0;32m\"/tmp/ipykernel_20735/2069114552.py\"\u001b[0;36m, line \u001b[0;32m1\u001b[0m\n\u001b[0;31m    // Copy your previous code to built alphabetList here\u001b[0m\n\u001b[0m    ^\u001b[0m\n\u001b[0;31mSyntaxError\u001b[0m\u001b[0;31m:\u001b[0m invalid syntax\n"
     ]
    }
   ],
   "source": [
    "// Copy your previous code to built alphabetList here\n",
    "var alphabet = \"abcdefghijklmnopqrstuvwxyz\";\n",
    "var alphabetList = [];\n",
    "\n",
    "for (var i = 0; i < alphabet.length; i++) {\n",
    "\talphabetList.push(alphabet[i]);\n",
    "}\n",
    "\n",
    "// console.log(alphabetList);\n",
    "let letterNumber = 5\n",
    "\n",
    "for (var i = 0; i < alphabetList.length; i++) {\n",
    "\tif (i == letterNumber) {\n",
    "\t\tconsole.log(alphabetList[i] + \" is letter number \" + String(i+1) + \" in the alphabet\")\n",
    "\t}\n",
    "}\n",
    "\n",
    "// Should output:\n",
    "// \"e\" is letter number 5 in the alphabet"
   ]
  },
  {
   "cell_type": "code",
   "execution_count": null,
   "metadata": {},
   "outputs": [],
   "source": []
  }
 ],
 "metadata": {
  "kernelspec": {
   "display_name": "Python 3 (ipykernel)",
   "language": "python",
   "name": "python3"
  },
  "language_info": {
   "codemirror_mode": {
    "name": "ipython",
    "version": 3
   },
   "file_extension": ".py",
   "mimetype": "text/x-python",
   "name": "python",
   "nbconvert_exporter": "python",
   "pygments_lexer": "ipython3",
   "version": "3.10.12"
  }
 },
 "nbformat": 4,
 "nbformat_minor": 2
}
